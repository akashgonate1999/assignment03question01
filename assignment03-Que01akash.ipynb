{
 "cells": [
  {
   "cell_type": "code",
   "execution_count": 1,
   "id": "276cc675",
   "metadata": {},
   "outputs": [
    {
     "data": {
      "text/plain": [
       "20"
      ]
     },
     "execution_count": 1,
     "metadata": {},
     "output_type": "execute_result"
    }
   ],
   "source": [
    "def Sum_numbers(number):\n",
    "    total = 0\n",
    "    for i in number:\n",
    "        total += i\n",
    "    return total\n",
    "s=[8,2,3,0,7]\n",
    "Sum_numbers(s)"
   ]
  },
  {
   "cell_type": "code",
   "execution_count": null,
   "id": "a7266001",
   "metadata": {},
   "outputs": [],
   "source": []
  }
 ],
 "metadata": {
  "kernelspec": {
   "display_name": "Python 3 (ipykernel)",
   "language": "python",
   "name": "python3"
  },
  "language_info": {
   "codemirror_mode": {
    "name": "ipython",
    "version": 3
   },
   "file_extension": ".py",
   "mimetype": "text/x-python",
   "name": "python",
   "nbconvert_exporter": "python",
   "pygments_lexer": "ipython3",
   "version": "3.10.4"
  }
 },
 "nbformat": 4,
 "nbformat_minor": 5
}
